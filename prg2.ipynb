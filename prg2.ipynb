{
 "cells": [
  {
   "cell_type": "code",
   "execution_count": 2,
   "metadata": {},
   "outputs": [
    {
     "name": "stdout",
     "output_type": "stream",
     "text": [
      "Enter your name: BHINDU SUMA DARUVURI\n",
      "Enter your age: 23\n",
      "HELLO!! BHINDU SUMA DARUVURI you are an adult born in 2001 \n"
     ]
    }
   ],
   "source": [
    "def calculate_year_of_birth(current_year, age):\n",
    "    return current_year - age\n",
    "\n",
    "CURRENT_YEAR = 2024\n",
    "\n",
    "name = input(\"Enter your name: \")\n",
    "age = int(input(\"Enter your age: \"))\n",
    "\n",
    "if age >= 18:\n",
    "    adult_status = \"an adult\"\n",
    "else:\n",
    "    adult_status = \"a minor\"\n",
    "\n",
    "\n",
    "year_of_birth = calculate_year_of_birth(CURRENT_YEAR, age)\n",
    "\n",
    "\n",
    "print(f\"HELLO!! {name} you are {adult_status} born in {year_of_birth} \")\n",
    "\n",
    "\n"
   ]
  },
  {
   "cell_type": "code",
   "execution_count": null,
   "metadata": {},
   "outputs": [],
   "source": []
  }
 ],
 "metadata": {
  "kernelspec": {
   "display_name": "Python 3 (ipykernel)",
   "language": "python",
   "name": "python3"
  },
  "language_info": {
   "codemirror_mode": {
    "name": "ipython",
    "version": 3
   },
   "file_extension": ".py",
   "mimetype": "text/x-python",
   "name": "python",
   "nbconvert_exporter": "python",
   "pygments_lexer": "ipython3",
   "version": "3.11.5"
  }
 },
 "nbformat": 4,
 "nbformat_minor": 2
}
